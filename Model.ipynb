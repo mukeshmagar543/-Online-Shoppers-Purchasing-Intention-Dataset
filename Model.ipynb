{
 "cells": [
  {
   "cell_type": "code",
   "execution_count": 1,
   "id": "cbca8882",
   "metadata": {},
   "outputs": [],
   "source": [
    "# Importing Data Manipilation Libraries\n",
    "import pandas as pd\n",
    "import numpy as np\n",
    "\n",
    "# Import Data Visualization Libraries\n",
    "\n",
    "import matplotlib.pyplot as plt\n",
    "import seaborn as sns\n",
    "\n",
    "# Import Data Filter Libraries\n",
    "import warnings\n",
    "warnings.filterwarnings('ignore')"
   ]
  },
  {
   "cell_type": "code",
   "execution_count": 2,
   "id": "760aaa11",
   "metadata": {},
   "outputs": [
    {
     "data": {
      "text/html": [
       "<div>\n",
       "<style scoped>\n",
       "    .dataframe tbody tr th:only-of-type {\n",
       "        vertical-align: middle;\n",
       "    }\n",
       "\n",
       "    .dataframe tbody tr th {\n",
       "        vertical-align: top;\n",
       "    }\n",
       "\n",
       "    .dataframe thead th {\n",
       "        text-align: right;\n",
       "    }\n",
       "</style>\n",
       "<table border=\"1\" class=\"dataframe\">\n",
       "  <thead>\n",
       "    <tr style=\"text-align: right;\">\n",
       "      <th></th>\n",
       "      <th>Administrative</th>\n",
       "      <th>Administrative_Duration</th>\n",
       "      <th>Informational</th>\n",
       "      <th>Informational_Duration</th>\n",
       "      <th>ProductRelated</th>\n",
       "      <th>ProductRelated_Duration</th>\n",
       "      <th>BounceRates</th>\n",
       "      <th>ExitRates</th>\n",
       "      <th>PageValues</th>\n",
       "      <th>SpecialDay</th>\n",
       "      <th>Month</th>\n",
       "      <th>OperatingSystems</th>\n",
       "      <th>Browser</th>\n",
       "      <th>Region</th>\n",
       "      <th>TrafficType</th>\n",
       "      <th>VisitorType</th>\n",
       "      <th>Weekend</th>\n",
       "      <th>Revenue</th>\n",
       "    </tr>\n",
       "  </thead>\n",
       "  <tbody>\n",
       "    <tr>\n",
       "      <th>11487</th>\n",
       "      <td>0</td>\n",
       "      <td>0.000000</td>\n",
       "      <td>0</td>\n",
       "      <td>0.0</td>\n",
       "      <td>12</td>\n",
       "      <td>1952.750000</td>\n",
       "      <td>0.033333</td>\n",
       "      <td>0.068333</td>\n",
       "      <td>0.000000</td>\n",
       "      <td>0.0</td>\n",
       "      <td>Nov</td>\n",
       "      <td>2</td>\n",
       "      <td>4</td>\n",
       "      <td>8</td>\n",
       "      <td>1</td>\n",
       "      <td>Returning_Visitor</td>\n",
       "      <td>False</td>\n",
       "      <td>False</td>\n",
       "    </tr>\n",
       "    <tr>\n",
       "      <th>7772</th>\n",
       "      <td>0</td>\n",
       "      <td>0.000000</td>\n",
       "      <td>0</td>\n",
       "      <td>0.0</td>\n",
       "      <td>42</td>\n",
       "      <td>602.883333</td>\n",
       "      <td>0.000000</td>\n",
       "      <td>0.004365</td>\n",
       "      <td>21.266325</td>\n",
       "      <td>0.0</td>\n",
       "      <td>Sep</td>\n",
       "      <td>6</td>\n",
       "      <td>2</td>\n",
       "      <td>3</td>\n",
       "      <td>1</td>\n",
       "      <td>Returning_Visitor</td>\n",
       "      <td>False</td>\n",
       "      <td>False</td>\n",
       "    </tr>\n",
       "    <tr>\n",
       "      <th>3731</th>\n",
       "      <td>0</td>\n",
       "      <td>0.000000</td>\n",
       "      <td>1</td>\n",
       "      <td>55.0</td>\n",
       "      <td>38</td>\n",
       "      <td>1377.409524</td>\n",
       "      <td>0.000877</td>\n",
       "      <td>0.018860</td>\n",
       "      <td>0.000000</td>\n",
       "      <td>0.0</td>\n",
       "      <td>May</td>\n",
       "      <td>2</td>\n",
       "      <td>2</td>\n",
       "      <td>2</td>\n",
       "      <td>4</td>\n",
       "      <td>Returning_Visitor</td>\n",
       "      <td>False</td>\n",
       "      <td>False</td>\n",
       "    </tr>\n",
       "    <tr>\n",
       "      <th>8285</th>\n",
       "      <td>0</td>\n",
       "      <td>0.000000</td>\n",
       "      <td>0</td>\n",
       "      <td>0.0</td>\n",
       "      <td>6</td>\n",
       "      <td>50.833333</td>\n",
       "      <td>0.033333</td>\n",
       "      <td>0.050000</td>\n",
       "      <td>0.000000</td>\n",
       "      <td>0.0</td>\n",
       "      <td>Nov</td>\n",
       "      <td>1</td>\n",
       "      <td>1</td>\n",
       "      <td>3</td>\n",
       "      <td>2</td>\n",
       "      <td>New_Visitor</td>\n",
       "      <td>False</td>\n",
       "      <td>False</td>\n",
       "    </tr>\n",
       "    <tr>\n",
       "      <th>2227</th>\n",
       "      <td>10</td>\n",
       "      <td>527.000000</td>\n",
       "      <td>3</td>\n",
       "      <td>213.0</td>\n",
       "      <td>26</td>\n",
       "      <td>994.822222</td>\n",
       "      <td>0.000000</td>\n",
       "      <td>0.003441</td>\n",
       "      <td>0.000000</td>\n",
       "      <td>0.0</td>\n",
       "      <td>May</td>\n",
       "      <td>3</td>\n",
       "      <td>2</td>\n",
       "      <td>1</td>\n",
       "      <td>2</td>\n",
       "      <td>Returning_Visitor</td>\n",
       "      <td>False</td>\n",
       "      <td>False</td>\n",
       "    </tr>\n",
       "    <tr>\n",
       "      <th>...</th>\n",
       "      <td>...</td>\n",
       "      <td>...</td>\n",
       "      <td>...</td>\n",
       "      <td>...</td>\n",
       "      <td>...</td>\n",
       "      <td>...</td>\n",
       "      <td>...</td>\n",
       "      <td>...</td>\n",
       "      <td>...</td>\n",
       "      <td>...</td>\n",
       "      <td>...</td>\n",
       "      <td>...</td>\n",
       "      <td>...</td>\n",
       "      <td>...</td>\n",
       "      <td>...</td>\n",
       "      <td>...</td>\n",
       "      <td>...</td>\n",
       "      <td>...</td>\n",
       "    </tr>\n",
       "    <tr>\n",
       "      <th>4897</th>\n",
       "      <td>6</td>\n",
       "      <td>595.100000</td>\n",
       "      <td>3</td>\n",
       "      <td>1439.0</td>\n",
       "      <td>19</td>\n",
       "      <td>1119.716667</td>\n",
       "      <td>0.000000</td>\n",
       "      <td>0.016667</td>\n",
       "      <td>0.000000</td>\n",
       "      <td>0.0</td>\n",
       "      <td>May</td>\n",
       "      <td>1</td>\n",
       "      <td>1</td>\n",
       "      <td>8</td>\n",
       "      <td>2</td>\n",
       "      <td>Returning_Visitor</td>\n",
       "      <td>False</td>\n",
       "      <td>False</td>\n",
       "    </tr>\n",
       "    <tr>\n",
       "      <th>4424</th>\n",
       "      <td>5</td>\n",
       "      <td>76.333333</td>\n",
       "      <td>2</td>\n",
       "      <td>0.0</td>\n",
       "      <td>36</td>\n",
       "      <td>1420.547902</td>\n",
       "      <td>0.015385</td>\n",
       "      <td>0.042694</td>\n",
       "      <td>0.000000</td>\n",
       "      <td>0.0</td>\n",
       "      <td>May</td>\n",
       "      <td>3</td>\n",
       "      <td>2</td>\n",
       "      <td>1</td>\n",
       "      <td>4</td>\n",
       "      <td>Returning_Visitor</td>\n",
       "      <td>False</td>\n",
       "      <td>False</td>\n",
       "    </tr>\n",
       "    <tr>\n",
       "      <th>9051</th>\n",
       "      <td>0</td>\n",
       "      <td>0.000000</td>\n",
       "      <td>0</td>\n",
       "      <td>0.0</td>\n",
       "      <td>5</td>\n",
       "      <td>975.500000</td>\n",
       "      <td>0.080000</td>\n",
       "      <td>0.100000</td>\n",
       "      <td>0.000000</td>\n",
       "      <td>0.0</td>\n",
       "      <td>Nov</td>\n",
       "      <td>3</td>\n",
       "      <td>2</td>\n",
       "      <td>3</td>\n",
       "      <td>13</td>\n",
       "      <td>Returning_Visitor</td>\n",
       "      <td>False</td>\n",
       "      <td>False</td>\n",
       "    </tr>\n",
       "    <tr>\n",
       "      <th>7328</th>\n",
       "      <td>1</td>\n",
       "      <td>4.333333</td>\n",
       "      <td>0</td>\n",
       "      <td>0.0</td>\n",
       "      <td>3</td>\n",
       "      <td>14.333333</td>\n",
       "      <td>0.006667</td>\n",
       "      <td>0.074444</td>\n",
       "      <td>0.000000</td>\n",
       "      <td>0.0</td>\n",
       "      <td>June</td>\n",
       "      <td>4</td>\n",
       "      <td>2</td>\n",
       "      <td>1</td>\n",
       "      <td>5</td>\n",
       "      <td>Returning_Visitor</td>\n",
       "      <td>True</td>\n",
       "      <td>True</td>\n",
       "    </tr>\n",
       "    <tr>\n",
       "      <th>9648</th>\n",
       "      <td>0</td>\n",
       "      <td>0.000000</td>\n",
       "      <td>0</td>\n",
       "      <td>0.0</td>\n",
       "      <td>7</td>\n",
       "      <td>105.000000</td>\n",
       "      <td>0.000000</td>\n",
       "      <td>0.033333</td>\n",
       "      <td>0.000000</td>\n",
       "      <td>0.0</td>\n",
       "      <td>Dec</td>\n",
       "      <td>2</td>\n",
       "      <td>2</td>\n",
       "      <td>1</td>\n",
       "      <td>8</td>\n",
       "      <td>New_Visitor</td>\n",
       "      <td>False</td>\n",
       "      <td>False</td>\n",
       "    </tr>\n",
       "  </tbody>\n",
       "</table>\n",
       "<p>12330 rows × 18 columns</p>\n",
       "</div>"
      ],
      "text/plain": [
       "       Administrative  Administrative_Duration  Informational  \\\n",
       "11487               0                 0.000000              0   \n",
       "7772                0                 0.000000              0   \n",
       "3731                0                 0.000000              1   \n",
       "8285                0                 0.000000              0   \n",
       "2227               10               527.000000              3   \n",
       "...               ...                      ...            ...   \n",
       "4897                6               595.100000              3   \n",
       "4424                5                76.333333              2   \n",
       "9051                0                 0.000000              0   \n",
       "7328                1                 4.333333              0   \n",
       "9648                0                 0.000000              0   \n",
       "\n",
       "       Informational_Duration  ProductRelated  ProductRelated_Duration  \\\n",
       "11487                     0.0              12              1952.750000   \n",
       "7772                      0.0              42               602.883333   \n",
       "3731                     55.0              38              1377.409524   \n",
       "8285                      0.0               6                50.833333   \n",
       "2227                    213.0              26               994.822222   \n",
       "...                       ...             ...                      ...   \n",
       "4897                   1439.0              19              1119.716667   \n",
       "4424                      0.0              36              1420.547902   \n",
       "9051                      0.0               5               975.500000   \n",
       "7328                      0.0               3                14.333333   \n",
       "9648                      0.0               7               105.000000   \n",
       "\n",
       "       BounceRates  ExitRates  PageValues  SpecialDay Month  OperatingSystems  \\\n",
       "11487     0.033333   0.068333    0.000000         0.0   Nov                 2   \n",
       "7772      0.000000   0.004365   21.266325         0.0   Sep                 6   \n",
       "3731      0.000877   0.018860    0.000000         0.0   May                 2   \n",
       "8285      0.033333   0.050000    0.000000         0.0   Nov                 1   \n",
       "2227      0.000000   0.003441    0.000000         0.0   May                 3   \n",
       "...            ...        ...         ...         ...   ...               ...   \n",
       "4897      0.000000   0.016667    0.000000         0.0   May                 1   \n",
       "4424      0.015385   0.042694    0.000000         0.0   May                 3   \n",
       "9051      0.080000   0.100000    0.000000         0.0   Nov                 3   \n",
       "7328      0.006667   0.074444    0.000000         0.0  June                 4   \n",
       "9648      0.000000   0.033333    0.000000         0.0   Dec                 2   \n",
       "\n",
       "       Browser  Region  TrafficType        VisitorType  Weekend  Revenue  \n",
       "11487        4       8            1  Returning_Visitor    False    False  \n",
       "7772         2       3            1  Returning_Visitor    False    False  \n",
       "3731         2       2            4  Returning_Visitor    False    False  \n",
       "8285         1       3            2        New_Visitor    False    False  \n",
       "2227         2       1            2  Returning_Visitor    False    False  \n",
       "...        ...     ...          ...                ...      ...      ...  \n",
       "4897         1       8            2  Returning_Visitor    False    False  \n",
       "4424         2       1            4  Returning_Visitor    False    False  \n",
       "9051         2       3           13  Returning_Visitor    False    False  \n",
       "7328         2       1            5  Returning_Visitor     True     True  \n",
       "9648         2       1            8        New_Visitor    False    False  \n",
       "\n",
       "[12330 rows x 18 columns]"
      ]
     },
     "execution_count": 2,
     "metadata": {},
     "output_type": "execute_result"
    }
   ],
   "source": [
    "# Loading the dataset\n",
    "\n",
    "url = 'https://raw.githubusercontent.com/mukeshmagar543/-Online-Shoppers-Purchasing-Intention-Dataset/refs/heads/main/online_shoppers_intention.csv'\n",
    "\n",
    "df = pd.read_csv(url)\n",
    "\n",
    "df.sample(frac = 1) # Data Shuffle"
   ]
  },
  {
   "cell_type": "code",
   "execution_count": 3,
   "id": "4a424c64",
   "metadata": {},
   "outputs": [
    {
     "name": "stdout",
     "output_type": "stream",
     "text": [
      "<class 'pandas.core.frame.DataFrame'>\n",
      "RangeIndex: 12330 entries, 0 to 12329\n",
      "Data columns (total 18 columns):\n",
      " #   Column                   Non-Null Count  Dtype  \n",
      "---  ------                   --------------  -----  \n",
      " 0   Administrative           12330 non-null  int64  \n",
      " 1   Administrative_Duration  12330 non-null  float64\n",
      " 2   Informational            12330 non-null  int64  \n",
      " 3   Informational_Duration   12330 non-null  float64\n",
      " 4   ProductRelated           12330 non-null  int64  \n",
      " 5   ProductRelated_Duration  12330 non-null  float64\n",
      " 6   BounceRates              12330 non-null  float64\n",
      " 7   ExitRates                12330 non-null  float64\n",
      " 8   PageValues               12330 non-null  float64\n",
      " 9   SpecialDay               12330 non-null  float64\n",
      " 10  Month                    12330 non-null  object \n",
      " 11  OperatingSystems         12330 non-null  int64  \n",
      " 12  Browser                  12330 non-null  int64  \n",
      " 13  Region                   12330 non-null  int64  \n",
      " 14  TrafficType              12330 non-null  int64  \n",
      " 15  VisitorType              12330 non-null  object \n",
      " 16  Weekend                  12330 non-null  bool   \n",
      " 17  Revenue                  12330 non-null  bool   \n",
      "dtypes: bool(2), float64(7), int64(7), object(2)\n",
      "memory usage: 1.5+ MB\n"
     ]
    }
   ],
   "source": [
    "# Checking Data Information\n",
    "\n",
    "df.info()"
   ]
  },
  {
   "cell_type": "code",
   "execution_count": 4,
   "id": "2a4900b9",
   "metadata": {},
   "outputs": [
    {
     "data": {
      "text/plain": [
       "Administrative             0\n",
       "Administrative_Duration    0\n",
       "Informational              0\n",
       "Informational_Duration     0\n",
       "ProductRelated             0\n",
       "ProductRelated_Duration    0\n",
       "BounceRates                0\n",
       "ExitRates                  0\n",
       "PageValues                 0\n",
       "SpecialDay                 0\n",
       "Month                      0\n",
       "OperatingSystems           0\n",
       "Browser                    0\n",
       "Region                     0\n",
       "TrafficType                0\n",
       "VisitorType                0\n",
       "Weekend                    0\n",
       "Revenue                    0\n",
       "dtype: int64"
      ]
     },
     "execution_count": 4,
     "metadata": {},
     "output_type": "execute_result"
    }
   ],
   "source": [
    "df.isnull().sum()"
   ]
  },
  {
   "cell_type": "markdown",
   "id": "ddb4b880",
   "metadata": {},
   "source": [
    "# **Target column is not balanced** "
   ]
  },
  {
   "cell_type": "code",
   "execution_count": 5,
   "id": "1c10b123",
   "metadata": {},
   "outputs": [
    {
     "data": {
      "text/plain": [
       "Revenue\n",
       "False    10422\n",
       "True      1908\n",
       "Name: count, dtype: int64"
      ]
     },
     "execution_count": 5,
     "metadata": {},
     "output_type": "execute_result"
    }
   ],
   "source": [
    "df['Revenue'].value_counts()"
   ]
  },
  {
   "cell_type": "code",
   "execution_count": 6,
   "id": "8b9cd874",
   "metadata": {},
   "outputs": [],
   "source": [
    "df['Weekend'] = df['Weekend'].replace({False : 1, True : 0})\n",
    "df['Revenue'] = df['Revenue'].replace({False : 1, True : 0})"
   ]
  },
  {
   "cell_type": "code",
   "execution_count": 7,
   "id": "0579fa1f",
   "metadata": {},
   "outputs": [
    {
     "data": {
      "text/plain": [
       "Month\n",
       "6    3364\n",
       "7    2998\n",
       "5    1907\n",
       "1    1727\n",
       "8     549\n",
       "9     448\n",
       "0     433\n",
       "3     432\n",
       "4     288\n",
       "2     184\n",
       "Name: count, dtype: int64"
      ]
     },
     "execution_count": 7,
     "metadata": {},
     "output_type": "execute_result"
    }
   ],
   "source": [
    "# Using Label Encoding in Url column\n",
    "from sklearn.preprocessing import LabelEncoder\n",
    "le = LabelEncoder()\n",
    "\n",
    "df['VisitorType'] = le.fit_transform(df['VisitorType'])\n",
    "df['Month'] = le.fit_transform(df['Month'])\n",
    "df['Month'].value_counts()"
   ]
  },
  {
   "cell_type": "markdown",
   "id": "ae8c7c1a",
   "metadata": {},
   "source": [
    "# **There is large amount of outliers are present in th dataset**"
   ]
  },
  {
   "cell_type": "code",
   "execution_count": 8,
   "id": "4b318bdf",
   "metadata": {},
   "outputs": [
    {
     "data": {
      "image/png": "[encoded data removed]",
      "text/plain": [
       "<Figure size 1000x1000 with 1 Axes>"
      ]
     },
     "metadata": {},
     "output_type": "display_data"
    }
   ],
   "source": [
    "plt.figure(figsize=(10, 10))\n",
    "sns.boxplot(data= df)\n",
    "plt.xticks(rotation = 90)  \n",
    "plt.title(\"Box Plot of Numerical Features\")\n",
    "plt.tight_layout()\n",
    "plt.show()"
   ]
  },
  {
   "cell_type": "code",
   "execution_count": 9,
   "id": "5d73855a",
   "metadata": {},
   "outputs": [
    {
     "data": {
      "image/png": "[encoded data removed]",
      "text/plain": [
       "<Figure size 1500x800 with 1 Axes>"
      ]
     },
     "metadata": {},
     "output_type": "display_data"
    }
   ],
   "source": [
    "# Set figure size\n",
    "plt.figure(figsize=(15, 8))\n",
    "\n",
    "# Create boxplot for all numerical columns\n",
    "sns.boxplot(data=df, orient='h', palette='Set2')\n",
    "\n",
    "# Set title\n",
    "plt.title('Boxplot After Outlier Treatment')\n",
    "plt.tight_layout()\n",
    "plt.show()"
   ]
  },
  {
   "cell_type": "code",
   "execution_count": 10,
   "id": "a75e8310",
   "metadata": {},
   "outputs": [
    {
     "data": {
      "text/html": [
       "<div>\n",
       "<style scoped>\n",
       "    .dataframe tbody tr th:only-of-type {\n",
       "        vertical-align: middle;\n",
       "    }\n",
       "\n",
       "    .dataframe tbody tr th {\n",
       "        vertical-align: top;\n",
       "    }\n",
       "\n",
       "    .dataframe thead th {\n",
       "        text-align: right;\n",
       "    }\n",
       "</style>\n",
       "<table border=\"1\" class=\"dataframe\">\n",
       "  <thead>\n",
       "    <tr style=\"text-align: right;\">\n",
       "      <th></th>\n",
       "      <th>features</th>\n",
       "      <th>VIF_Values</th>\n",
       "    </tr>\n",
       "  </thead>\n",
       "  <tbody>\n",
       "    <tr>\n",
       "      <th>7</th>\n",
       "      <td>ExitRates</td>\n",
       "      <td>11.98</td>\n",
       "    </tr>\n",
       "    <tr>\n",
       "      <th>6</th>\n",
       "      <td>BounceRates</td>\n",
       "      <td>7.43</td>\n",
       "    </tr>\n",
       "    <tr>\n",
       "      <th>4</th>\n",
       "      <td>ProductRelated</td>\n",
       "      <td>6.67</td>\n",
       "    </tr>\n",
       "    <tr>\n",
       "      <th>15</th>\n",
       "      <td>VisitorType</td>\n",
       "      <td>6.50</td>\n",
       "    </tr>\n",
       "    <tr>\n",
       "      <th>5</th>\n",
       "      <td>ProductRelated_Duration</td>\n",
       "      <td>6.01</td>\n",
       "    </tr>\n",
       "    <tr>\n",
       "      <th>11</th>\n",
       "      <td>OperatingSystems</td>\n",
       "      <td>5.93</td>\n",
       "    </tr>\n",
       "    <tr>\n",
       "      <th>10</th>\n",
       "      <td>Month</td>\n",
       "      <td>4.68</td>\n",
       "    </tr>\n",
       "    <tr>\n",
       "      <th>16</th>\n",
       "      <td>Weekend</td>\n",
       "      <td>3.84</td>\n",
       "    </tr>\n",
       "    <tr>\n",
       "      <th>12</th>\n",
       "      <td>Browser</td>\n",
       "      <td>3.02</td>\n",
       "    </tr>\n",
       "    <tr>\n",
       "      <th>0</th>\n",
       "      <td>Administrative</td>\n",
       "      <td>2.84</td>\n",
       "    </tr>\n",
       "    <tr>\n",
       "      <th>13</th>\n",
       "      <td>Region</td>\n",
       "      <td>2.60</td>\n",
       "    </tr>\n",
       "    <tr>\n",
       "      <th>14</th>\n",
       "      <td>TrafficType</td>\n",
       "      <td>2.13</td>\n",
       "    </tr>\n",
       "    <tr>\n",
       "      <th>2</th>\n",
       "      <td>Informational</td>\n",
       "      <td>2.12</td>\n",
       "    </tr>\n",
       "    <tr>\n",
       "      <th>1</th>\n",
       "      <td>Administrative_Duration</td>\n",
       "      <td>2.04</td>\n",
       "    </tr>\n",
       "    <tr>\n",
       "      <th>3</th>\n",
       "      <td>Informational_Duration</td>\n",
       "      <td>1.78</td>\n",
       "    </tr>\n",
       "    <tr>\n",
       "      <th>8</th>\n",
       "      <td>PageValues</td>\n",
       "      <td>1.15</td>\n",
       "    </tr>\n",
       "    <tr>\n",
       "      <th>9</th>\n",
       "      <td>SpecialDay</td>\n",
       "      <td>1.13</td>\n",
       "    </tr>\n",
       "  </tbody>\n",
       "</table>\n",
       "</div>"
      ],
      "text/plain": [
       "                   features  VIF_Values\n",
       "7                 ExitRates       11.98\n",
       "6               BounceRates        7.43\n",
       "4            ProductRelated        6.67\n",
       "15              VisitorType        6.50\n",
       "5   ProductRelated_Duration        6.01\n",
       "11         OperatingSystems        5.93\n",
       "10                    Month        4.68\n",
       "16                  Weekend        3.84\n",
       "12                  Browser        3.02\n",
       "0            Administrative        2.84\n",
       "13                   Region        2.60\n",
       "14              TrafficType        2.13\n",
       "2             Informational        2.12\n",
       "1   Administrative_Duration        2.04\n",
       "3    Informational_Duration        1.78\n",
       "8                PageValues        1.15\n",
       "9                SpecialDay        1.13"
      ]
     },
     "execution_count": 10,
     "metadata": {},
     "output_type": "execute_result"
    }
   ],
   "source": [
    "# Checking VIF:\n",
    "from statsmodels.stats.outliers_influence import variance_inflation_factor\n",
    "from sklearn.decomposition import PCA\n",
    "def calculate_vif(dataset):\n",
    "    vif = pd.DataFrame()\n",
    "    vif['features'] = dataset.columns\n",
    "    vif['VIF_Values'] = [variance_inflation_factor(dataset.values,i) for i in range(dataset.shape[1])]\n",
    "    vif['VIF_Values'] = round(vif['VIF_Values'], 2)\n",
    "    vif = vif.sort_values(by = 'VIF_Values', ascending=False)\n",
    "    return (vif)\n",
    "\n",
    "calculate_vif(df.drop('Revenue',axis = 1))"
   ]
  },
  {
   "cell_type": "code",
   "execution_count": 11,
   "id": "03f997fe",
   "metadata": {},
   "outputs": [
    {
     "data": {
      "text/plain": [
       "Revenue\n",
       "1    10422\n",
       "0     1908\n",
       "Name: count, dtype: int64"
      ]
     },
     "execution_count": 11,
     "metadata": {},
     "output_type": "execute_result"
    }
   ],
   "source": [
    "df['Revenue'].value_counts()"
   ]
  },
  {
   "cell_type": "code",
   "execution_count": 24,
   "id": "21b73879",
   "metadata": {},
   "outputs": [],
   "source": [
    "# Step 1 : Divide Dataset into x and y\n",
    "\n",
    "# X : Independant Column and y : Target Column\n",
    "\n",
    "X = df.drop(columns = 'Revenue')  # Independant Column : 16\n",
    "\n",
    "y =df['Revenue']  # Target Column : 1\n",
    "\n",
    "# Step 2 : Split the Dataset into Train and Test\n",
    "# 100% -----> 80% Data is used for Training [Seen Data] and 20% Data [Unseen Data] is used for Testing\n",
    "from sklearn.model_selection import train_test_split\n",
    "\n",
    "X_train,X_test,y_train,y_test = train_test_split(X,y,stratify=y,test_size = 0.20,random_state = 42)\n",
    "\n",
    "# Step 3 : Normalization Scaling Technique\n",
    "from sklearn.preprocessing import RobustScaler\n",
    "\n",
    "scalar = RobustScaler()\n",
    "X_train = scalar.fit_transform(X_train)\n",
    "X_test = scalar.transform(X_test)\n",
    "\n",
    "# Step 4 : Using SMOTE Technique to Balance Target Column\n",
    "\n",
    "from imblearn.over_sampling import SMOTE\n",
    "sm = SMOTE(random_state=42)\n",
    "X_train,y_train = sm.fit_resample(X_train,y_train)"
   ]
  },
  {
   "cell_type": "code",
   "execution_count": 25,
   "id": "df3a691e",
   "metadata": {},
   "outputs": [
    {
     "data": {
      "text/plain": [
       "0.8678021086780211"
      ]
     },
     "execution_count": 25,
     "metadata": {},
     "output_type": "execute_result"
    }
   ],
   "source": [
    "# Step 5 : Import Model Preprocessing Library from Sklearn\n",
    "from sklearn.linear_model import LogisticRegression\n",
    "# Implement Logestic Regression to our Binary Classification Model\n",
    "# clf = LogisticRegression(random_state=0).fit(X,y)\n",
    "LR = LogisticRegression()\n",
    "# Fit the Model on Training Dataset\n",
    "LR.fit(X_train,y_train)\n",
    "\n",
    "# Predict the Value Based on Test Dataset\n",
    "y_pred = LR.predict(X_test)\n",
    "\n",
    "# Step 6: Use Matrics to evaluate Model Performances\n",
    "from sklearn.metrics import accuracy_score,classification_report\n",
    "\n",
    "accuracy_score_LR = accuracy_score(y_test,y_pred)\n",
    "accuracy_score_LR"
   ]
  },
  {
   "cell_type": "code",
   "execution_count": 26,
   "id": "33dc8f99",
   "metadata": {},
   "outputs": [
    {
     "data": {
      "text/plain": [
       "0.8592862935928629"
      ]
     },
     "execution_count": 26,
     "metadata": {},
     "output_type": "execute_result"
    }
   ],
   "source": [
    "from sklearn.tree import DecisionTreeClassifier\n",
    "DT = DecisionTreeClassifier()\n",
    "DT.fit(X_train, y_train)\n",
    "\n",
    "y_pred_DT = DT.predict(X_test)\n",
    "\n",
    "accuracy_score_DT = accuracy_score(y_pred_DT, y_test)\n",
    "accuracy_score_DT\n",
    "# print(f'Accuracy : {round(accuracy_score_DT * 100,2)}%')"
   ]
  },
  {
   "cell_type": "code",
   "execution_count": 27,
   "id": "b628acc9",
   "metadata": {},
   "outputs": [
    {
     "data": {
      "text/plain": [
       "0.8941605839416058"
      ]
     },
     "execution_count": 27,
     "metadata": {},
     "output_type": "execute_result"
    }
   ],
   "source": [
    "from sklearn.ensemble import RandomForestClassifier\n",
    "RF = RandomForestClassifier()\n",
    "\n",
    "RF.fit(X_train,y_train)\n",
    "\n",
    "y_pred_RF = RF.predict(X_test)\n",
    "\n",
    "from sklearn.metrics import accuracy_score\n",
    "accuracy_score_RF = accuracy_score(y_pred_RF,y_test)\n",
    "accuracy_score_RF\n",
    "# print(f'Accuracy : {round(accuracy_score_RF * 100,2)}%')"
   ]
  },
  {
   "cell_type": "code",
   "execution_count": 29,
   "id": "b2c62098",
   "metadata": {},
   "outputs": [
    {
     "data": {
      "text/plain": [
       "0.7534468775344688"
      ]
     },
     "execution_count": 29,
     "metadata": {},
     "output_type": "execute_result"
    }
   ],
   "source": [
    "# Using SGD classifier\n",
    "from sklearn.linear_model import SGDClassifier\n",
    "SGD = SGDClassifier()\n",
    "\n",
    "SGD.fit(X_train,y_train)\n",
    "\n",
    "y_pred_SGD = SGD.predict(X_test)\n",
    "accuracy_score_SGD = accuracy_score(y_pred_SGD,y_test)\n",
    "\n",
    "accuracy_score_SGD"
   ]
  },
  {
   "cell_type": "code",
   "execution_count": 31,
   "id": "ae78f9fc",
   "metadata": {},
   "outputs": [
    {
     "data": {
      "text/plain": [
       "0.8986212489862125"
      ]
     },
     "execution_count": 31,
     "metadata": {},
     "output_type": "execute_result"
    }
   ],
   "source": [
    "import xgboost\n",
    "from xgboost import XGBClassifier\n",
    "XGB = XGBClassifier()\n",
    "\n",
    "XGB.fit(X_train,y_train)\n",
    "\n",
    "y_pred_XGB = XGB.predict(X_test)\n",
    "accuracy_score_XGB = accuracy_score(y_pred_XGB,y_test)\n",
    "\n",
    "accuracy_score_XGB"
   ]
  },
  {
   "cell_type": "code",
   "execution_count": 28,
   "id": "6b4cc118",
   "metadata": {},
   "outputs": [
    {
     "name": "stdout",
     "output_type": "stream",
     "text": [
      "Accuracy for each fold :  [0.85671463 0.8735012  0.95023981 0.95323741 0.95443645 0.95383693\n",
      " 0.95560888 0.96340732 0.95080984 0.94781044]\n",
      "Average Accuracy across 10 folds :  0.9359602899563972\n"
     ]
    }
   ],
   "source": [
    "from sklearn.model_selection import cross_val_score\n",
    "\n",
    "scores = cross_val_score(RF, X_train, y_train, cv= 10, scoring= 'accuracy')\n",
    "\n",
    "print('Accuracy for each fold : ', scores)\n",
    "print('Average Accuracy across 10 folds : ', np.mean(scores))"
   ]
  },
  {
   "cell_type": "code",
   "execution_count": null,
   "id": "83e0be0c",
   "metadata": {},
   "outputs": [],
   "source": []
  }
 ],
 "metadata": {
  "kernelspec": {
   "display_name": "base",
   "language": "python",
   "name": "python3"
  },
  "language_info": {
   "codemirror_mode": {
    "name": "ipython",
    "version": 3
   },
   "file_extension": ".py",
   "mimetype": "text/x-python",
   "name": "python",
   "nbconvert_exporter": "python",
   "pygments_lexer": "ipython3",
   "version": "3.11.11"
  }
 },
 "nbformat": 4,
 "nbformat_minor": 5
}
